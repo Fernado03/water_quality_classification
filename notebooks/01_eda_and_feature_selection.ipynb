{
 "cells": [
  {
   "cell_type": "code",
   "execution_count": null,
   "id": "bc180c93",
   "metadata": {},
   "outputs": [],
   "source": [
    "# ======================\n",
    "# 0. Import Libraries\n",
    "# ======================\n",
    "import pandas as pd\n",
    "import seaborn as sns\n",
    "import matplotlib.pyplot as plt\n",
    "import warnings\n",
    "import os\n",
    "\n",
    "warnings.filterwarnings(\"ignore\")\n",
    "\n",
    "## For Dynamic Pathing ###\n",
    "from pathlib import Path\n",
    "current_dir = Path.cwd()\n",
    "base_dir = current_dir.parent\n",
    "data_path = base_dir / 'data' / 'raw' / 'water_quality.csv'"
   ]
  },
  {
   "cell_type": "markdown",
   "id": "b3d9daca",
   "metadata": {},
   "source": [
    "## Phase 1: Foundation & Data Acquisition\n",
    "---\n",
    "This notebook covers the initial Exploratory Data Analysis (EDA) for the Water Quality dataset. The key objectives are to understand the data's structure, identify key features for modeling, and check for any data quality issues.\n"
   ]
  },
  {
   "cell_type": "code",
   "execution_count": null,
   "id": "ba6c617f",
   "metadata": {},
   "outputs": [],
   "source": [
    "# ======================\n",
    "# 1. Create Directories and Load Dataset\n",
    "# ======================\n",
    "\n",
    "# Create directories for saving reports and figures if they don't exist\n",
    "if not os.path.exists('reports/figures'):\n",
    "    os.makedirs('reports/figures')\n",
    "\n",
    "# Load the dataset using a relative path based on the project structure\n",
    "try:\n",
    "    df = pd.read_csv(data_path)\n",
    "    print(\"✅ Dataset loaded successfully.\")\n",
    "except FileNotFoundError:\n",
    "    print(\"❌ Error: 'data/raw/water_quality.csv' not found.\")\n",
    "    print(\"Please ensure the dataset is in the correct directory.\")\n",
    "    # As a fallback for demonstration, creating a dummy dataframe\n",
    "    df = pd.DataFrame() \n"
   ]
  },
  {
   "cell_type": "code",
   "execution_count": null,
   "id": "70ac99b4",
   "metadata": {},
   "outputs": [],
   "source": [
    "# ======================\n",
    "# 2. Basic Dataset Overview\n",
    "# ======================\n",
    "if not df.empty:\n",
    "    print(\"📊 Shape of Dataset:\", df.shape)\n",
    "    print(\"\\n🧾 Dataset Info:\")\n",
    "    df.info()\n",
    "    print(\"\\n📈 Summary Statistics:\")\n",
    "    print(df.describe())\n",
    "    print(\"\\n📋 Columns in Dataset:\")\n",
    "    print(df.columns.tolist())\n",
    "    \n",
    "    # Explicitly check for missing values\n",
    "    print(\"\\n❓ Missing Values Check:\")\n",
    "    print(df.isnull().sum())"
   ]
  },
  {
   "cell_type": "code",
   "execution_count": null,
   "id": "2a12e55a",
   "metadata": {},
   "outputs": [],
   "source": [
    "# ======================\n",
    "# 3. Identify Feature Types\n",
    "# ======================\n",
    "if not df.empty:\n",
    "    categorical = df.select_dtypes(include='object').columns.tolist()\n",
    "    numerical = df.select_dtypes(include='number').columns.tolist()\n",
    "\n",
    "    print(\"\\n🔢 Numerical Columns:\", numerical)\n",
    "    print(\"🔠 Categorical Columns:\", categorical)"
   ]
  },
  {
   "cell_type": "code",
   "execution_count": null,
   "id": "8e0ca7fa",
   "metadata": {},
   "outputs": [],
   "source": [
    "# ======================\n",
    "# 4. Identifier Check\n",
    "# ======================\n",
    "if not df.empty:\n",
    "    print(\"\\n🆔 Checking for Identifier Columns...\")\n",
    "    is_identifier_found = False\n",
    "    for col in df.columns:\n",
    "        if df[col].is_unique:\n",
    "            print(f\"'{col}' is likely an identifier column as all its values are unique.\")\n",
    "            is_identifier_found = True\n",
    "    if not is_identifier_found:\n",
    "        print(\"No identifier columns found.\")"
   ]
  },
  {
   "cell_type": "markdown",
   "id": "36783164",
   "metadata": {},
   "source": [
    "## 5. Correlation and Feature Selection Insight\n",
    "---\n",
    "We analyze the correlation of numerical features with the `Water Quality Index (WQI)`. This helps in identifying the most influential features for predicting water quality, which is crucial for our feature selection process.\n"
   ]
  },
  {
   "cell_type": "code",
   "execution_count": null,
   "id": "ab670fc5",
   "metadata": {},
   "outputs": [],
   "source": [
    "# ======================\n",
    "# 5.1. WQI Correlation Analysis\n",
    "# ======================\n",
    "if 'WQI' in df.columns:\n",
    "    correlation = df.corr(numeric_only=True)\n",
    "    wqi_corr = correlation['WQI'].sort_values(ascending=False)\n",
    "    print(\"\\n🔗 Correlation with WQI:\")\n",
    "    print(wqi_corr)\n",
    "\n",
    "    # Heatmap Visualization\n",
    "    plt.figure(figsize=(12, 10))\n",
    "    sns.heatmap(correlation, annot=True, cmap=\"coolwarm\", fmt='.2f')\n",
    "    plt.title(\"Correlation Heatmap of Water Quality Features\")\n",
    "    \n",
    "    # Save the figure before showing it\n",
    "    plt.savefig('reports/figures/correlation_heatmap.png', bbox_inches='tight')\n",
    "    print(\"\\n✅ Correlation heatmap saved to 'reports/figures/correlation_heatmap.png'\")\n",
    "    \n",
    "    plt.show()\n",
    "\n",
    "else:\n",
    "    print(\"⚠️ WQI column not found. Please verify dataset.\")"
   ]
  },
  {
   "cell_type": "markdown",
   "id": "7a166a96",
   "metadata": {},
   "source": [
    " ## 6. Target Variable Analysis\n",
    " ---\n",
    " Here, we examine the distribution of our target variable, `Water Quality Classification`, to understand the class balance. This is critical because a significant imbalance might require special handling techniques like stratified sampling or resampling.\n"
   ]
  },
  {
   "cell_type": "code",
   "execution_count": null,
   "id": "f33348f2",
   "metadata": {},
   "outputs": [],
   "source": [
    "# ======================\n",
    "# 6.1. Target Variable Distribution\n",
    "# ======================\n",
    "if 'Water Quality Classification' in df.columns:\n",
    "    plt.figure(figsize=(10, 6))\n",
    "    sns.countplot(x='Water Quality Classification', data=df, palette='viridis', order=df['Water Quality Classification'].value_counts().index)\n",
    "    plt.title('Distribution of Water Quality Classification')\n",
    "    plt.xlabel('Water Quality Classification')\n",
    "    plt.ylabel('Count')\n",
    "    plt.xticks(rotation=45)\n",
    "    \n",
    "    # Save the figure\n",
    "    plt.savefig('reports/figures/target_variable_distribution.png', bbox_inches='tight')\n",
    "    print(\"\\n✅ Target variable distribution plot saved to 'reports/figures/target_variable_distribution.png'\")\n",
    "    \n",
    "    plt.show()\n",
    "    \n",
    "    print(\"\\n🎯 Class Balance:\")\n",
    "    print(df['Water Quality Classification'].value_counts())\n",
    "else:\n",
    "    print(\"⚠️ 'Water Quality Classification' column not found.\")"
   ]
  },
  {
   "cell_type": "markdown",
   "id": "87900f7d",
   "metadata": {},
   "source": [
    " ## 7. Numerical Feature Distribution Analysis\n",
    " ---\n",
    " We will now visualize the distributions of all numerical features to check for skewness and potential outliers.\n"
   ]
  },
  {
   "cell_type": "code",
   "execution_count": null,
   "id": "82f551b6",
   "metadata": {},
   "outputs": [],
   "source": [
    "# ======================\n",
    "# 7.1. Visualize Numerical Feature Distributions\n",
    "# ======================\n",
    "if not df.empty:\n",
    "    print(\"\\n📊 Visualizing Numerical Feature Distributions...\")\n",
    "    for col in numerical:\n",
    "        plt.figure(figsize=(12, 4))\n",
    "        \n",
    "        # Histogram\n",
    "        plt.subplot(1, 2, 1)\n",
    "        sns.histplot(df[col], kde=True, color='skyblue')\n",
    "        plt.title(f'Histogram of {col}')\n",
    "        \n",
    "        # Box Plot\n",
    "        plt.subplot(1, 2, 2)\n",
    "        sns.boxplot(y=df[col], color='lightgreen')\n",
    "        plt.title(f'Box Plot of {col}')\n",
    "        \n",
    "        # Save the combined plot\n",
    "        figure_path = f'reports/figures/distribution_{col}.png'\n",
    "        plt.savefig(figure_path, bbox_inches='tight')\n",
    "        \n",
    "        plt.tight_layout()\n",
    "        plt.show()\n",
    "\n",
    "    print(\"\\n✅ All numerical distribution plots saved to 'reports/figures/'.\")"
   ]
  }
 ],
 "metadata": {
  "kernelspec": {
   "display_name": "venv",
   "language": "python",
   "name": "python3"
  },
  "language_info": {
   "codemirror_mode": {
    "name": "ipython",
    "version": 3
   },
   "file_extension": ".py",
   "mimetype": "text/x-python",
   "name": "python",
   "nbconvert_exporter": "python",
   "pygments_lexer": "ipython3",
   "version": "3.11.0"
  }
 },
 "nbformat": 4,
 "nbformat_minor": 5
}
