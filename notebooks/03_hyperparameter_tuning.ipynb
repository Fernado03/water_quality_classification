{
 "cells": [
  {
   "cell_type": "markdown",
   "id": "125dfbae",
   "metadata": {},
   "source": [
    " # 03: Hyperparameter Tuning & Model Finalization\n",
    "\n",
    " **Objective:** To take the best-performing baseline model, **Random Forest**, fine-tune its hyperparameters for optimal performance, and serialize the final model and pre-processing objects for deployment.\n",
    "\n",
    " **Workflow:**\n",
    " 1.  **Setup & Load Data**: Import libraries and load the **cleaned** dataset from Phase 1.\n",
    " 2.  **Data Preparation**: Replicate the exact preprocessing pipeline (log transform, encoding, splitting, scaling) from Phase 2 for consistency.\n",
    " 3.  **Hyperparameter Tuning**: Use `RandomizedSearchCV` to efficiently search for the best combination of hyperparameters for the Random Forest model.\n",
    " 4.  **Final Model Evaluation**: Evaluate the tuned model on the held-out test set to confirm its performance.\n",
    " 5.  **Model Serialization**: Save the final, optimized model and the data scaler to disk for use in the web application.\n",
    " 6.  **Conclusion**: Summarize the final outcome of the project's modeling phase.\n",
    " ---"
   ]
  },
  {
   "cell_type": "code",
   "execution_count": 1,
   "id": "650ff753",
   "metadata": {},
   "outputs": [
    {
     "name": "stdout",
     "output_type": "stream",
     "text": [
      "✅ Cleaned dataset loaded successfully from 'c:\\Users\\Fernado\\Desktop\\ML_Project\\data\\processed\\water_quality_cleaned.csv'. Shape: (18860, 24)\n"
     ]
    }
   ],
   "source": [
    "# ==============================================================================\n",
    "# 1. SETUP & LOAD CLEANED DATA\n",
    "# ==============================================================================\n",
    "import pandas as pd\n",
    "import numpy as np\n",
    "import seaborn as sns\n",
    "import matplotlib.pyplot as plt\n",
    "import warnings\n",
    "import os\n",
    "import pickle\n",
    "\n",
    "from sklearn.model_selection import train_test_split, RandomizedSearchCV\n",
    "from sklearn.preprocessing import LabelEncoder, MinMaxScaler\n",
    "from sklearn.ensemble import RandomForestClassifier\n",
    "from sklearn.metrics import accuracy_score, classification_report, confusion_matrix, ConfusionMatrixDisplay\n",
    "\n",
    "# Configure settings\n",
    "warnings.filterwarnings(\"ignore\")\n",
    "sns.set_style(\"whitegrid\")\n",
    "\n",
    "# --- Dynamic Pathing ---\n",
    "from pathlib import Path\n",
    "current_dir = Path.cwd()\n",
    "base_dir = current_dir.parent if current_dir.name == 'notebooks' else current_dir\n",
    "# --- Pointing to the PROCESSED data from Notebook 01 ---\n",
    "data_path = base_dir / 'data' / 'processed' / 'water_quality_cleaned.csv'\n",
    "models_dir = base_dir / 'models'\n",
    "reports_dir = base_dir / 'reports' / 'figures'\n",
    "\n",
    "# Create directories if they don't exist\n",
    "models_dir.mkdir(parents=True, exist_ok=True)\n",
    "reports_dir.mkdir(parents=True, exist_ok=True)\n",
    "\n",
    "\n",
    "# --- Load Dataset ---\n",
    "try:\n",
    "    df = pd.read_csv(data_path)\n",
    "    print(f\"✅ Cleaned dataset loaded successfully from '{data_path}'. Shape: {df.shape}\")\n",
    "except FileNotFoundError:\n",
    "    print(f\"❌ Error: Cleaned dataset not found. Please run the `01_eda...` notebook first to generate it.\")\n",
    "    df = pd.DataFrame()"
   ]
  },
  {
   "cell_type": "markdown",
   "id": "415db699",
   "metadata": {},
   "source": [
    " ## 2. Data Preparation\n",
    " ---\n",
    " This section repeats the complete data preparation pipeline from the previous notebook. This ensures that the data fed into our final model is processed in exactly the same way.\n"
   ]
  },
  {
   "cell_type": "code",
   "execution_count": 2,
   "id": "ea37989d",
   "metadata": {},
   "outputs": [
    {
     "name": "stdout",
     "output_type": "stream",
     "text": [
      "✅ Feature selection, transformation, and encoding complete.\n",
      "✅ Data splitting and scaling complete.\n"
     ]
    }
   ],
   "source": [
    "# ==============================================================================\n",
    "# 2. DATA PREPARATION\n",
    "# ==============================================================================\n",
    "if not df.empty:\n",
    "    # 2.1. Feature Selection, Log Transformation, and Target Encoding\n",
    "    features = ['EC', 'Cl', 'TDS', 'Na']\n",
    "    target = 'Water Quality Classification'\n",
    "    X = df[features].copy()\n",
    "    y = df[target]\n",
    "    \n",
    "    for col in features:\n",
    "        X[col] = np.log1p(X[col])\n",
    "    \n",
    "    le = LabelEncoder()\n",
    "    y_encoded = le.fit_transform(y)\n",
    "    class_names = le.classes_\n",
    "    print(\"✅ Feature selection, transformation, and encoding complete.\")\n",
    "\n",
    "    # 2.2. Stratified Splitting and Scaling\n",
    "    X_train, X_test, y_train, y_test = train_test_split(X, y_encoded, test_size=0.2, random_state=42, stratify=y_encoded)\n",
    "    \n",
    "    scaler = MinMaxScaler()\n",
    "    X_train_scaled = scaler.fit_transform(X_train)\n",
    "    X_test_scaled = scaler.transform(X_test)\n",
    "    print(\"✅ Data splitting and scaling complete.\")"
   ]
  },
  {
   "cell_type": "markdown",
   "id": "80fdb353",
   "metadata": {},
   "source": [
    " ## 3. Hyperparameter Tuning\n",
    " ---\n",
    " We use `RandomizedSearchCV` to efficiently search for the best hyperparameters for our **Random Forest** model. We optimize for the `f1_macro` score, which is a robust metric for imbalanced classification tasks.\n"
   ]
  },
  {
   "cell_type": "code",
   "execution_count": 3,
   "id": "7c399bae",
   "metadata": {},
   "outputs": [
    {
     "name": "stdout",
     "output_type": "stream",
     "text": [
      "🚀 Starting hyperparameter tuning for Random Forest...\n",
      "Fitting 5 folds for each of 50 candidates, totalling 250 fits\n",
      "✅ Tuning complete.\n"
     ]
    }
   ],
   "source": [
    "# ==============================================================================\n",
    "# 3. HYPERPARAMETER TUNING\n",
    "# ==============================================================================\n",
    "if not df.empty:\n",
    "    # --- 3.1. Define the Hyperparameter Grid for Random Forest ---\n",
    "    param_distributions = {\n",
    "        'n_estimators': [100, 200, 300, 500],\n",
    "        'max_depth': [10, 20, 30, None],\n",
    "        'min_samples_split': [2, 5, 10],\n",
    "        'min_samples_leaf': [1, 2, 4],\n",
    "        'max_features': ['sqrt', 'log2'],\n",
    "        'bootstrap': [True, False]\n",
    "    }\n",
    "\n",
    "    # --- 3.2. Set up and Run RandomizedSearchCV ---\n",
    "    rf_model = RandomForestClassifier(random_state=42)\n",
    "    \n",
    "    random_search = RandomizedSearchCV(\n",
    "        estimator=rf_model,\n",
    "        param_distributions=param_distributions,\n",
    "        n_iter=50,  # Try 50 different combinations\n",
    "        cv=5,       # 5-fold cross-validation\n",
    "        scoring='f1_macro',\n",
    "        n_jobs=-1,  # Use all available CPU cores\n",
    "        random_state=42,\n",
    "        verbose=2   # Show progress\n",
    "    )\n",
    "\n",
    "    print(\"🚀 Starting hyperparameter tuning for Random Forest...\")\n",
    "    random_search.fit(X_train_scaled, y_train)\n",
    "    print(\"✅ Tuning complete.\")"
   ]
  },
  {
   "cell_type": "markdown",
   "id": "c3f0b785",
   "metadata": {},
   "source": [
    " ## 4. Final Model Evaluation\n",
    " ---\n",
    " We now evaluate the `best_model` found during the search on our held-out test set. This gives us the final performance metrics for our optimized model.\n"
   ]
  },
  {
   "cell_type": "code",
   "execution_count": 4,
   "id": "c216ff5e",
   "metadata": {},
   "outputs": [
    {
     "name": "stdout",
     "output_type": "stream",
     "text": [
      "\n",
      "🏆 Best Hyperparameters Found:\n",
      "{'n_estimators': 500, 'min_samples_split': 10, 'min_samples_leaf': 4, 'max_features': 'sqrt', 'max_depth': None, 'bootstrap': False}\n",
      "\n",
      "⭐ Best Macro-F1 Score from Cross-Validation: 0.9624\n",
      "\n",
      "✅ Final Results for Tuned Random Forest Model:\n",
      "   Accuracy: 0.9708\n",
      "   Classification Report:\n",
      "                              precision    recall  f1-score   support\n",
      "     \n",
      "                   Excellent       0.99      0.96      0.97       149\n",
      "                        Good       0.95      0.93      0.94       307\n",
      "                        Poor       0.96      0.97      0.97      1056\n",
      "     Unsuitable for Drinking       0.99      0.99      0.99      1320\n",
      "     Very Poor yet Drinkable       0.96      0.96      0.96       940\n",
      "     \n",
      "                    accuracy                           0.97      3772\n",
      "                   macro avg       0.97      0.96      0.97      3772\n",
      "                weighted avg       0.97      0.97      0.97      3772\n",
      "     \n"
     ]
    },
    {
     "data": {
      "image/png": "[encoded data removed]",
      "text/plain": [
       "<Figure size 800x600 with 2 Axes>"
      ]
     },
     "metadata": {},
     "output_type": "display_data"
    },
    {
     "name": "stdout",
     "output_type": "stream",
     "text": [
      "\n",
      "✅ Final confusion matrix saved to 'c:\\Users\\Fernado\\Desktop\\ML_Project\\reports\\figures\\confusion_matrix_Tuned_Random_Forest.png'\n"
     ]
    }
   ],
   "source": [
    "# ==============================================================================\n",
    "# 4. FINAL MODEL EVALUATION\n",
    "# ==============================================================================\n",
    "if 'random_search' in locals():\n",
    "    # --- 4.1. Analyze Tuning Results ---\n",
    "    print(\"\\n🏆 Best Hyperparameters Found:\")\n",
    "    print(random_search.best_params_)\n",
    "    print(f\"\\n⭐ Best Macro-F1 Score from Cross-Validation: {random_search.best_score_:.4f}\")\n",
    "    \n",
    "    # The best model found by the search\n",
    "    best_model = random_search.best_estimator_\n",
    "\n",
    "    # --- 4.2. Evaluate the Tuned Model on the Test Set ---\n",
    "    y_pred_tuned = best_model.predict(X_test_scaled)\n",
    "    accuracy_tuned = accuracy_score(y_test, y_pred_tuned)\n",
    "    report_tuned = classification_report(y_test, y_pred_tuned, target_names=class_names)\n",
    "\n",
    "    print(\"\\n✅ Final Results for Tuned Random Forest Model:\")\n",
    "    print(f\"   Accuracy: {accuracy_tuned:.4f}\")\n",
    "    print(\"   Classification Report:\")\n",
    "    for line in report_tuned.split('\\n'):\n",
    "            print(f\"     {line}\")\n",
    "\n",
    "    # --- 4.3. Visualize the Final Confusion Matrix ---\n",
    "    cm_tuned = confusion_matrix(y_test, y_pred_tuned)\n",
    "    disp_tuned = ConfusionMatrixDisplay(confusion_matrix=cm_tuned, display_labels=class_names)\n",
    "\n",
    "    fig, ax = plt.subplots(figsize=(8, 6))\n",
    "    disp_tuned.plot(ax=ax, cmap='Greens', xticks_rotation='vertical')\n",
    "    ax.set_title('Confusion Matrix for Tuned Random Forest Model', fontsize=16)\n",
    "    \n",
    "    cm_path_tuned = reports_dir / 'confusion_matrix_Tuned_Random_Forest.png'\n",
    "    plt.savefig(cm_path_tuned, bbox_inches='tight')\n",
    "    plt.show()\n",
    "    print(f\"\\n✅ Final confusion matrix saved to '{cm_path_tuned}'\")"
   ]
  },
  {
   "cell_type": "markdown",
   "id": "89796d4d",
   "metadata": {},
   "source": [
    " ## 5. Model Serialization\n",
    " ---\n",
    " The final step is to save our work. We serialize and save two crucial components for our web application:\n",
    " 1.  **The Tuned Model**: The `best_model` object itself, ready for making future predictions.\n",
    " 2.  **The Scaler**: The `MinMaxScaler` object. This is **critical** because any new user input must be scaled in exactly the same way as the training data.\n"
   ]
  },
  {
   "cell_type": "code",
   "execution_count": 5,
   "id": "13d47ce3",
   "metadata": {},
   "outputs": [
    {
     "name": "stdout",
     "output_type": "stream",
     "text": [
      "💾 Final model saved to: 'c:\\Users\\Fernado\\Desktop\\ML_Project\\models\\final_model.pkl'\n",
      "💾 Scaler saved to: 'c:\\Users\\Fernado\\Desktop\\ML_Project\\models\\scaler.pkl'\n"
     ]
    }
   ],
   "source": [
    "# ==============================================================================\n",
    "# 5. MODEL SERIALIZATION\n",
    "# ==============================================================================\n",
    "if 'best_model' in locals() and 'scaler' in locals():\n",
    "    # Define file paths consistent with the project structure\n",
    "    model_path = models_dir / 'final_model.pkl'\n",
    "    scaler_path = models_dir / 'scaler.pkl'\n",
    "\n",
    "    # Save the final model using pickle\n",
    "    with open(model_path, 'wb') as f:\n",
    "        pickle.dump(best_model, f)\n",
    "    print(f\"💾 Final model saved to: '{model_path}'\")\n",
    "\n",
    "    # Save the scaler\n",
    "    with open(scaler_path, 'wb') as f:\n",
    "        pickle.dump(scaler, f)\n",
    "    print(f\"💾 Scaler saved to: '{scaler_path}'\")"
   ]
  },
  {
   "cell_type": "markdown",
   "id": "a6fd0302",
   "metadata": {},
   "source": [
    "## 6. Conclusion\n",
    "---\n",
    "This notebook successfully concludes the entire modeling phase of the project.\n",
    "\n",
    "We began by taking the best-performing model from our baseline tests, **Random Forest**, and proceeded to fine-tune its hyperparameters. Using `RandomizedSearchCV`, we efficiently searched for an optimal set of parameters, validating the performance with 5-fold cross-validation and optimizing for a robust `Macro F1-Score`.\n",
    "\n",
    "The key outcomes of this process are:\n",
    "\n",
    "1.  **Optimal Model Identified**: The tuning process identified a set of hyperparameters that resulted in a highly stable model, achieving an excellent **Macro F1-Score of 0.9624** during cross-validation.\n",
    "\n",
    "2.  **Confirmed High Performance**: When evaluated on the final, held-out test set, the tuned model achieved an outstanding **accuracy of 97.08%**. The detailed classification report confirms that the model is not only accurate but also balanced, performing exceptionally well across all five water quality classes.\n",
    "\n",
    "3.  **Production-Ready Artifacts**: The two most critical components for deployment have been successfully created and saved:\n",
    "    * `models/final_model.pkl`: The final, optimized Random Forest model.\n",
    "    * `models/scaler.pkl`: The `MinMaxScaler` fitted on the training data.\n",
    "\n",
    "The project has now progressed from raw data to a fine-tuned, serialized machine learning model ready for real-world application. The next and final step is to build the user-facing web application in Streamlit that will use these saved artifacts to make live predictions."
   ]
  }
 ],
 "metadata": {
  "kernelspec": {
   "display_name": "venv",
   "language": "python",
   "name": "python3"
  },
  "language_info": {
   "codemirror_mode": {
    "name": "ipython",
    "version": 3
   },
   "file_extension": ".py",
   "mimetype": "text/x-python",
   "name": "python",
   "nbconvert_exporter": "python",
   "pygments_lexer": "ipython3",
   "version": "3.11.0"
  }
 },
 "nbformat": 4,
 "nbformat_minor": 5
}
